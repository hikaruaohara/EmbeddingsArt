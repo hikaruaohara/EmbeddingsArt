{
 "cells": [
  {
   "cell_type": "code",
   "execution_count": 96,
   "metadata": {},
   "outputs": [],
   "source": [
    "import openai\n",
    "import numpy as np\n",
    "import os\n",
    "from PIL import Image"
   ]
  },
  {
   "cell_type": "code",
   "execution_count": 97,
   "metadata": {},
   "outputs": [],
   "source": [
    "def numpy_normalization(x):\n",
    "    x_min = np.min(x)\n",
    "    x_max = np.max(x)\n",
    "    x_scaled = 255 * (x - x_min) / (x_max - x_min)\n",
    "\n",
    "    return x_scaled.astype(np.uint8)"
   ]
  },
  {
   "cell_type": "code",
   "execution_count": 98,
   "metadata": {},
   "outputs": [],
   "source": [
    "input_text = '青空文庫からPythonで本文を取得するコードです。作業ステップは以下の通りです。'"
   ]
  },
  {
   "cell_type": "code",
   "execution_count": 99,
   "metadata": {},
   "outputs": [],
   "source": [
    "openai.api_key = os.environ['OPENAI_API_KEY']\n",
    "response = openai.Embedding.create(\n",
    "    input=input_text,\n",
    "    model='text-embedding-ada-002'\n",
    ")\n",
    "\n",
    "embeddings = np.array(response['data'][0]['embedding'])\n",
    "normalized_embeddings = numpy_normalization(embeddings)"
   ]
  },
  {
   "cell_type": "code",
   "execution_count": 102,
   "metadata": {},
   "outputs": [],
   "source": [
    "normalized_embeddings = np.stack([normalized_embeddings for _ in range(len(normalized_embeddings))])\n",
    "image = Image.fromarray(normalized_embeddings)\n",
    "image.save('./output/embedding.png')"
   ]
  }
 ],
 "metadata": {
  "kernelspec": {
   "display_name": "base",
   "language": "python",
   "name": "python3"
  },
  "language_info": {
   "codemirror_mode": {
    "name": "ipython",
    "version": 3
   },
   "file_extension": ".py",
   "mimetype": "text/x-python",
   "name": "python",
   "nbconvert_exporter": "python",
   "pygments_lexer": "ipython3",
   "version": "3.9.12"
  },
  "orig_nbformat": 4
 },
 "nbformat": 4,
 "nbformat_minor": 2
}
