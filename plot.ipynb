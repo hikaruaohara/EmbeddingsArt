{
 "cells": [
  {
   "cell_type": "code",
   "execution_count": null,
   "metadata": {},
   "outputs": [],
   "source": [
    "import pickle\n",
    "import numpy as np\n",
    "import matplotlib.pyplot as plt\n",
    "import matplotlib.cm as cm\n",
    "from sklearn.manifold import TSNE\n",
    "\n",
    "%config InlineBackend.figure_formats = {'png', 'retina'}"
   ]
  },
  {
   "cell_type": "code",
   "execution_count": null,
   "metadata": {},
   "outputs": [],
   "source": [
    "folder_names = ['merosu', 'ningenisu', 'sisei']  # 作品名を指定"
   ]
  },
  {
   "cell_type": "markdown",
   "metadata": {},
   "source": [
    "## 埋め込みをロードしてTSNEで次元削減"
   ]
  },
  {
   "cell_type": "code",
   "execution_count": null,
   "metadata": {},
   "outputs": [],
   "source": [
    "num_of_sentence = []\n",
    "concat_embeddings = np.empty((0, 1536))\n",
    "\n",
    "for folder_name in folder_names:\n",
    "    with open(f'embeddings/{folder_name}/embeddings.pickle', 'rb') as f:\n",
    "        embeddings = pickle.load(f)\n",
    "        num_of_sentence.append(embeddings.shape[0])\n",
    "        concat_embeddings = np.concatenate([concat_embeddings, embeddings])\n",
    "\n",
    "concat_tsne = TSNE(n_components=2).fit_transform(concat_embeddings)"
   ]
  },
  {
   "cell_type": "markdown",
   "metadata": {},
   "source": [
    "## プロット"
   ]
  },
  {
   "cell_type": "code",
   "execution_count": null,
   "metadata": {},
   "outputs": [],
   "source": [
    "alphas = np.linspace(0.1, 1, len(num_of_sentence))\n",
    "# colors = ['black' for _ in range(len(num_of_sentence))] # マーカの色を全て黒にする\n",
    "colors = cm.rainbow(np.linspace(0, 1, len(num_of_sentence)))  # マーカーの色を虹色にする\n",
    "marker_size = 10    # マーカーのサイズ\n",
    "\n",
    "fig, ax = plt.subplots()\n",
    "ax.axis('off')\n",
    "\n",
    "first_novel = concat_tsne[:num_of_sentence[0]]\n",
    "ax.scatter(first_novel[:, 0], first_novel[:, 1], color=colors[0], alpha=alphas[0], s=marker_size)\n",
    "\n",
    "for i in range(1, len(num_of_sentence)-1):\n",
    "    i_novel = concat_tsne[num_of_sentence[i-1]:num_of_sentence[i-1]+num_of_sentence[i]]\n",
    "    ax.scatter(i_novel[:, 0], i_novel[:, 1], color=colors[i], alpha=alphas[i], s=marker_size)\n",
    "\n",
    "last_novel = concat_tsne[-num_of_sentence[-1]:]\n",
    "ax.scatter(last_novel[:, 0], last_novel[:, 1], color=colors[-1], alpha=alphas[-1], s=marker_size)\n",
    "\n",
    "plt.show()"
   ]
  },
  {
   "cell_type": "code",
   "execution_count": null,
   "metadata": {},
   "outputs": [],
   "source": []
  }
 ],
 "metadata": {
  "kernelspec": {
   "display_name": "embeddings-art",
   "language": "python",
   "name": "python3"
  },
  "language_info": {
   "codemirror_mode": {
    "name": "ipython",
    "version": 3
   },
   "file_extension": ".py",
   "mimetype": "text/x-python",
   "name": "python",
   "nbconvert_exporter": "python",
   "pygments_lexer": "ipython3",
   "version": "3.10.13"
  }
 },
 "nbformat": 4,
 "nbformat_minor": 2
}
